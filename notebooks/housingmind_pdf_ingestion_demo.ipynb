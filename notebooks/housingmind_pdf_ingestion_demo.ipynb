{
 "cells": [
  {
   "cell_type": "markdown",
   "id": "e1a89e27",
   "metadata": {},
   "source": [
    "# HousingMind: PDF Ingestion Preview\n",
    "\n",
    "This notebook demonstrates how to extract text from HUD-related PDF documents for use in training or retrieval-based tasks."
   ]
  },
  {
   "cell_type": "code",
   "execution_count": null,
   "id": "d64cf957",
   "metadata": {},
   "outputs": [],
   "source": [
    "import fitz  # PyMuPDF\n",
    "from pathlib import Path\n",
    "\n",
    "pdf_path = Path(\"../raw_documents/sample_notice.pdf\")\n",
    "doc = fitz.open(pdf_path)\n",
    "\n",
    "text = \"\"\n",
    "for page in doc:\n",
    "    text += page.get_text()\n",
    "\n",
    "print(text[:2000])  # Show the first 2000 characters"
   ]
  },
  {
   "cell_type": "markdown",
   "id": "de1f7d54",
   "metadata": {},
   "source": [
    "## Next Steps\n",
    "- Clean and segment text into instruction pairs\n",
    "- Annotate with metadata (e.g., source, section, HUD program)\n",
    "- Store outputs in `instruction_data/` or `lookup_tables/`"
   ]
  }
 ],
 "metadata": {},
 "nbformat": 4,
 "nbformat_minor": 5
}

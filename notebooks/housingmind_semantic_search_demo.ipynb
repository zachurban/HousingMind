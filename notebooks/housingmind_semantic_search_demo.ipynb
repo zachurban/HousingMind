{
 "cells": [
  {
   "cell_type": "markdown",
   "id": "7343fbe8",
   "metadata": {},
   "source": [
    "# HousingMind: Semantic Search Preview\n",
    "\n",
    "This notebook demonstrates how to use embeddings to search across housing policy documents or instructions."
   ]
  },
  {
   "cell_type": "code",
   "execution_count": null,
   "id": "2928bcf3",
   "metadata": {},
   "outputs": [],
   "source": [
    "from sentence_transformers import SentenceTransformer, util\n",
    "import pandas as pd\n",
    "import torch\n",
    "\n",
    "# Load example dataset\n",
    "instruction_path = Path(\"../instruction_data/housingmind_instructions.jsonl\")\n",
    "records = []\n",
    "with open(instruction_path, 'r') as f:\n",
    "    for line in f:\n",
    "        records.append(json.loads(line.strip()))\n",
    "df = pd.DataFrame(records)"
   ]
  },
  {
   "cell_type": "code",
   "execution_count": null,
   "id": "dfe5f62c",
   "metadata": {},
   "outputs": [],
   "source": [
    "# Load embedding model\n",
    "model = SentenceTransformer('all-MiniLM-L6-v2')\n",
    "embeddings = model.encode(df['prompt'].tolist(), convert_to_tensor=True)"
   ]
  },
  {
   "cell_type": "code",
   "execution_count": null,
   "id": "e28a9164",
   "metadata": {},
   "outputs": [],
   "source": [
    "# Define a search query\n",
    "query = \"How do PHAs calculate HAP for PBV units?\"\n",
    "query_embedding = model.encode(query, convert_to_tensor=True)"
   ]
  },
  {
   "cell_type": "code",
   "execution_count": null,
   "id": "7d9360d4",
   "metadata": {},
   "outputs": [],
   "source": [
    "# Perform semantic search\n",
    "hits = util.semantic_search(query_embedding, embeddings, top_k=5)\n",
    "for hit in hits[0]:\n",
    "    idx = hit['corpus_id']\n",
    "    print(f\"Score: {hit['score']:.4f}\\nPrompt: {df.iloc[idx]['prompt']}\\nResponse: {df.iloc[idx]['response'][:300]}\\n\")"
   ]
  },
  {
   "cell_type": "markdown",
   "id": "b3134851",
   "metadata": {},
   "source": [
    "## Next Steps\n",
    "- Expand with metadata filtering (program type, document source)\n",
    "- Use embeddings in retrieval-augmented generation (RAG)"
   ]
  }
 ],
 "metadata": {},
 "nbformat": 4,
 "nbformat_minor": 5
}

{
 "cells": [
  {
   "cell_type": "markdown",
   "id": "6bd2540a",
   "metadata": {},
   "source": [
    "# HousingMind: Instruction Dataset Preview & Sample Fine-Tuning Prep\n",
    "\n",
    "This notebook demonstrates how to load, inspect, and prepare HousingMind instruction data for use in training or fine-tuning a language model for housing policy applications."
   ]
  },
  {
   "cell_type": "code",
   "execution_count": null,
   "id": "52bc1a42",
   "metadata": {},
   "outputs": [],
   "source": [
    "import json\n",
    "import pandas as pd\n",
    "from pathlib import Path"
   ]
  },
  {
   "cell_type": "markdown",
   "id": "b3aa2caa",
   "metadata": {},
   "source": [
    "## Load Instruction Data (JSONL)"
   ]
  },
  {
   "cell_type": "code",
   "execution_count": null,
   "id": "bf54030a",
   "metadata": {},
   "outputs": [],
   "source": [
    "instruction_path = Path(\"../instruction_data/housingmind_instructions.jsonl\")\n",
    "\n",
    "# Read JSONL into a DataFrame\n",
    "records = []\n",
    "with open(instruction_path, 'r') as file:\n",
    "    for line in file:\n",
    "        records.append(json.loads(line.strip()))\n",
    "\n",
    "df = pd.DataFrame(records)\n",
    "df.head()"
   ]
  },
  {
   "cell_type": "markdown",
   "id": "e9825afa",
   "metadata": {},
   "source": [
    "## Data Schema Check"
   ]
  },
  {
   "cell_type": "code",
   "execution_count": null,
   "id": "e192cd34",
   "metadata": {},
   "outputs": [],
   "source": [
    "print(\"Total Records:\", len(df))\n",
    "print(\"Columns:\", df.columns.tolist())\n",
    "print(df.isnull().sum())"
   ]
  },
  {
   "cell_type": "markdown",
   "id": "c544a6d8",
   "metadata": {},
   "source": [
    "## Sample Prompt-Response Pair"
   ]
  },
  {
   "cell_type": "code",
   "execution_count": null,
   "id": "1fb7efb4",
   "metadata": {},
   "outputs": [],
   "source": [
    "sample = df.sample(1).iloc[0]\n",
    "print(\"🧠 Prompt:\", sample[\"prompt\"])\n",
    "print(\"✅ Response:\", sample[\"response\"])"
   ]
  },
  {
   "cell_type": "markdown",
   "id": "408e44f8",
   "metadata": {},
   "source": [
    "## Prepare Data for Alpaca-Style Fine-Tuning"
   ]
  },
  {
   "cell_type": "code",
   "execution_count": null,
   "id": "071453b7",
   "metadata": {},
   "outputs": [],
   "source": [
    "def to_alpaca_format(df):\n",
    "    return [\n",
    "        {\n",
    "            \"instruction\": row[\"prompt\"],\n",
    "            \"input\": \"\",\n",
    "            \"output\": row[\"response\"]\n",
    "        }\n",
    "        for _, row in df.iterrows()\n",
    "    ]\n",
    "\n",
    "alpaca_data = to_alpaca_format(df)\n",
    "\n",
    "# Save formatted output\n",
    "with open(\"formatted_housingmind_alpaca.json\", \"w\") as f:\n",
    "    json.dump(alpaca_data, f, indent=2)"
   ]
  },
  {
   "cell_type": "markdown",
   "id": "f2ab630f",
   "metadata": {},
   "source": [
    "## Next Steps\n",
    "- Upload to Hugging Face Datasets\n",
    "- Integrate with LangChain / RAG\n",
    "- Expand dataset from raw_documents or lookup_tables"
   ]
  }
 ],
 "metadata": {},
 "nbformat": 4,
 "nbformat_minor": 5
}
